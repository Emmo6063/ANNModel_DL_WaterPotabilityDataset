{
  "cells": [
    {
      "cell_type": "markdown",
      "metadata": {
        "id": "2EkHy5RON-K3"
      },
      "source": [
        "## `Water Potability Classification`"
      ]
    },
    {
      "cell_type": "markdown",
      "metadata": {
        "id": "tcbAFpxLM7fQ"
      },
      "source": [
        "**Problem Statement**: \n",
        "Basically this Dataset is a collection a water samples of different localities at different times to determine whether the water is safe for drinking or not. It includes several basic physical & chemical components present in the water and compares them with human consumable range and based on those scores we classify the sample as potable or not."
      ]
    },
    {
      "cell_type": "markdown",
      "metadata": {
        "id": "5F0zFLVTOg4r"
      },
      "source": [
        "Importing the necessary libraries. We will import only initial lobraries, i prefer importing required libraries at the place of its use"
      ]
    },
    {
      "cell_type": "code",
      "execution_count": null,
      "metadata": {
        "id": "BhsAN-nXNIAv"
      },
      "outputs": [],
      "source": [
        "import warnings\n",
        "warnings.filterwarnings(\"ignore\")\n",
        "\n",
        "import pandas as pd\n",
        "import numpy as np\n",
        "import matplotlib.pyplot as plt\n",
        "import seaborn as sns"
      ]
    },
    {
      "cell_type": "markdown",
      "metadata": {
        "id": "aIZElASVOwNx"
      },
      "source": [
        "Reading the Dataset"
      ]
    },
    {
      "cell_type": "code",
      "execution_count": null,
      "metadata": {
        "colab": {
          "base_uri": "https://localhost:8080/",
          "height": 363
        },
        "id": "b8j2pnQyNijw",
        "outputId": "523234e6-2508-4a9d-f8e9-033b0ff1a130"
      },
      "outputs": [
        {
          "output_type": "execute_result",
          "data": {
            "text/plain": [
              "          ph    Hardness        Solids  Chloramines     Sulfate  Conductivity  \\\n",
              "0        NaN  204.890455  20791.318981     7.300212  368.516441    564.308654   \n",
              "1   3.716080  129.422921  18630.057858     6.635246         NaN    592.885359   \n",
              "2   8.099124  224.236259  19909.541732     9.275884         NaN    418.606213   \n",
              "3   8.316766  214.373394  22018.417441     8.059332  356.886136    363.266516   \n",
              "4   9.092223  181.101509  17978.986339     6.546600  310.135738    398.410813   \n",
              "5   5.584087  188.313324  28748.687739     7.544869  326.678363    280.467916   \n",
              "6  10.223862  248.071735  28749.716544     7.513408  393.663396    283.651634   \n",
              "7   8.635849  203.361523  13672.091764     4.563009  303.309771    474.607645   \n",
              "8        NaN  118.988579  14285.583854     7.804174  268.646941    389.375566   \n",
              "9  11.180284  227.231469  25484.508491     9.077200  404.041635    563.885481   \n",
              "\n",
              "   Organic_carbon  Trihalomethanes  Turbidity  Potability  \n",
              "0       10.379783        86.990970   2.963135           0  \n",
              "1       15.180013        56.329076   4.500656           0  \n",
              "2       16.868637        66.420093   3.055934           0  \n",
              "3       18.436524       100.341674   4.628771           0  \n",
              "4       11.558279        31.997993   4.075075           0  \n",
              "5        8.399735        54.917862   2.559708           0  \n",
              "6       13.789695        84.603556   2.672989           0  \n",
              "7       12.363817        62.798309   4.401425           0  \n",
              "8       12.706049        53.928846   3.595017           0  \n",
              "9       17.927806        71.976601   4.370562           0  "
            ],
            "text/html": [
              "\n",
              "  <div id=\"df-1e9e3ed3-e3d2-4e22-aee9-2ee7dcd5ebc8\">\n",
              "    <div class=\"colab-df-container\">\n",
              "      <div>\n",
              "<style scoped>\n",
              "    .dataframe tbody tr th:only-of-type {\n",
              "        vertical-align: middle;\n",
              "    }\n",
              "\n",
              "    .dataframe tbody tr th {\n",
              "        vertical-align: top;\n",
              "    }\n",
              "\n",
              "    .dataframe thead th {\n",
              "        text-align: right;\n",
              "    }\n",
              "</style>\n",
              "<table border=\"1\" class=\"dataframe\">\n",
              "  <thead>\n",
              "    <tr style=\"text-align: right;\">\n",
              "      <th></th>\n",
              "      <th>ph</th>\n",
              "      <th>Hardness</th>\n",
              "      <th>Solids</th>\n",
              "      <th>Chloramines</th>\n",
              "      <th>Sulfate</th>\n",
              "      <th>Conductivity</th>\n",
              "      <th>Organic_carbon</th>\n",
              "      <th>Trihalomethanes</th>\n",
              "      <th>Turbidity</th>\n",
              "      <th>Potability</th>\n",
              "    </tr>\n",
              "  </thead>\n",
              "  <tbody>\n",
              "    <tr>\n",
              "      <th>0</th>\n",
              "      <td>NaN</td>\n",
              "      <td>204.890455</td>\n",
              "      <td>20791.318981</td>\n",
              "      <td>7.300212</td>\n",
              "      <td>368.516441</td>\n",
              "      <td>564.308654</td>\n",
              "      <td>10.379783</td>\n",
              "      <td>86.990970</td>\n",
              "      <td>2.963135</td>\n",
              "      <td>0</td>\n",
              "    </tr>\n",
              "    <tr>\n",
              "      <th>1</th>\n",
              "      <td>3.716080</td>\n",
              "      <td>129.422921</td>\n",
              "      <td>18630.057858</td>\n",
              "      <td>6.635246</td>\n",
              "      <td>NaN</td>\n",
              "      <td>592.885359</td>\n",
              "      <td>15.180013</td>\n",
              "      <td>56.329076</td>\n",
              "      <td>4.500656</td>\n",
              "      <td>0</td>\n",
              "    </tr>\n",
              "    <tr>\n",
              "      <th>2</th>\n",
              "      <td>8.099124</td>\n",
              "      <td>224.236259</td>\n",
              "      <td>19909.541732</td>\n",
              "      <td>9.275884</td>\n",
              "      <td>NaN</td>\n",
              "      <td>418.606213</td>\n",
              "      <td>16.868637</td>\n",
              "      <td>66.420093</td>\n",
              "      <td>3.055934</td>\n",
              "      <td>0</td>\n",
              "    </tr>\n",
              "    <tr>\n",
              "      <th>3</th>\n",
              "      <td>8.316766</td>\n",
              "      <td>214.373394</td>\n",
              "      <td>22018.417441</td>\n",
              "      <td>8.059332</td>\n",
              "      <td>356.886136</td>\n",
              "      <td>363.266516</td>\n",
              "      <td>18.436524</td>\n",
              "      <td>100.341674</td>\n",
              "      <td>4.628771</td>\n",
              "      <td>0</td>\n",
              "    </tr>\n",
              "    <tr>\n",
              "      <th>4</th>\n",
              "      <td>9.092223</td>\n",
              "      <td>181.101509</td>\n",
              "      <td>17978.986339</td>\n",
              "      <td>6.546600</td>\n",
              "      <td>310.135738</td>\n",
              "      <td>398.410813</td>\n",
              "      <td>11.558279</td>\n",
              "      <td>31.997993</td>\n",
              "      <td>4.075075</td>\n",
              "      <td>0</td>\n",
              "    </tr>\n",
              "    <tr>\n",
              "      <th>5</th>\n",
              "      <td>5.584087</td>\n",
              "      <td>188.313324</td>\n",
              "      <td>28748.687739</td>\n",
              "      <td>7.544869</td>\n",
              "      <td>326.678363</td>\n",
              "      <td>280.467916</td>\n",
              "      <td>8.399735</td>\n",
              "      <td>54.917862</td>\n",
              "      <td>2.559708</td>\n",
              "      <td>0</td>\n",
              "    </tr>\n",
              "    <tr>\n",
              "      <th>6</th>\n",
              "      <td>10.223862</td>\n",
              "      <td>248.071735</td>\n",
              "      <td>28749.716544</td>\n",
              "      <td>7.513408</td>\n",
              "      <td>393.663396</td>\n",
              "      <td>283.651634</td>\n",
              "      <td>13.789695</td>\n",
              "      <td>84.603556</td>\n",
              "      <td>2.672989</td>\n",
              "      <td>0</td>\n",
              "    </tr>\n",
              "    <tr>\n",
              "      <th>7</th>\n",
              "      <td>8.635849</td>\n",
              "      <td>203.361523</td>\n",
              "      <td>13672.091764</td>\n",
              "      <td>4.563009</td>\n",
              "      <td>303.309771</td>\n",
              "      <td>474.607645</td>\n",
              "      <td>12.363817</td>\n",
              "      <td>62.798309</td>\n",
              "      <td>4.401425</td>\n",
              "      <td>0</td>\n",
              "    </tr>\n",
              "    <tr>\n",
              "      <th>8</th>\n",
              "      <td>NaN</td>\n",
              "      <td>118.988579</td>\n",
              "      <td>14285.583854</td>\n",
              "      <td>7.804174</td>\n",
              "      <td>268.646941</td>\n",
              "      <td>389.375566</td>\n",
              "      <td>12.706049</td>\n",
              "      <td>53.928846</td>\n",
              "      <td>3.595017</td>\n",
              "      <td>0</td>\n",
              "    </tr>\n",
              "    <tr>\n",
              "      <th>9</th>\n",
              "      <td>11.180284</td>\n",
              "      <td>227.231469</td>\n",
              "      <td>25484.508491</td>\n",
              "      <td>9.077200</td>\n",
              "      <td>404.041635</td>\n",
              "      <td>563.885481</td>\n",
              "      <td>17.927806</td>\n",
              "      <td>71.976601</td>\n",
              "      <td>4.370562</td>\n",
              "      <td>0</td>\n",
              "    </tr>\n",
              "  </tbody>\n",
              "</table>\n",
              "</div>\n",
              "      <button class=\"colab-df-convert\" onclick=\"convertToInteractive('df-1e9e3ed3-e3d2-4e22-aee9-2ee7dcd5ebc8')\"\n",
              "              title=\"Convert this dataframe to an interactive table.\"\n",
              "              style=\"display:none;\">\n",
              "        \n",
              "  <svg xmlns=\"http://www.w3.org/2000/svg\" height=\"24px\"viewBox=\"0 0 24 24\"\n",
              "       width=\"24px\">\n",
              "    <path d=\"M0 0h24v24H0V0z\" fill=\"none\"/>\n",
              "    <path d=\"M18.56 5.44l.94 2.06.94-2.06 2.06-.94-2.06-.94-.94-2.06-.94 2.06-2.06.94zm-11 1L8.5 8.5l.94-2.06 2.06-.94-2.06-.94L8.5 2.5l-.94 2.06-2.06.94zm10 10l.94 2.06.94-2.06 2.06-.94-2.06-.94-.94-2.06-.94 2.06-2.06.94z\"/><path d=\"M17.41 7.96l-1.37-1.37c-.4-.4-.92-.59-1.43-.59-.52 0-1.04.2-1.43.59L10.3 9.45l-7.72 7.72c-.78.78-.78 2.05 0 2.83L4 21.41c.39.39.9.59 1.41.59.51 0 1.02-.2 1.41-.59l7.78-7.78 2.81-2.81c.8-.78.8-2.07 0-2.86zM5.41 20L4 18.59l7.72-7.72 1.47 1.35L5.41 20z\"/>\n",
              "  </svg>\n",
              "      </button>\n",
              "      \n",
              "  <style>\n",
              "    .colab-df-container {\n",
              "      display:flex;\n",
              "      flex-wrap:wrap;\n",
              "      gap: 12px;\n",
              "    }\n",
              "\n",
              "    .colab-df-convert {\n",
              "      background-color: #E8F0FE;\n",
              "      border: none;\n",
              "      border-radius: 50%;\n",
              "      cursor: pointer;\n",
              "      display: none;\n",
              "      fill: #1967D2;\n",
              "      height: 32px;\n",
              "      padding: 0 0 0 0;\n",
              "      width: 32px;\n",
              "    }\n",
              "\n",
              "    .colab-df-convert:hover {\n",
              "      background-color: #E2EBFA;\n",
              "      box-shadow: 0px 1px 2px rgba(60, 64, 67, 0.3), 0px 1px 3px 1px rgba(60, 64, 67, 0.15);\n",
              "      fill: #174EA6;\n",
              "    }\n",
              "\n",
              "    [theme=dark] .colab-df-convert {\n",
              "      background-color: #3B4455;\n",
              "      fill: #D2E3FC;\n",
              "    }\n",
              "\n",
              "    [theme=dark] .colab-df-convert:hover {\n",
              "      background-color: #434B5C;\n",
              "      box-shadow: 0px 1px 3px 1px rgba(0, 0, 0, 0.15);\n",
              "      filter: drop-shadow(0px 1px 2px rgba(0, 0, 0, 0.3));\n",
              "      fill: #FFFFFF;\n",
              "    }\n",
              "  </style>\n",
              "\n",
              "      <script>\n",
              "        const buttonEl =\n",
              "          document.querySelector('#df-1e9e3ed3-e3d2-4e22-aee9-2ee7dcd5ebc8 button.colab-df-convert');\n",
              "        buttonEl.style.display =\n",
              "          google.colab.kernel.accessAllowed ? 'block' : 'none';\n",
              "\n",
              "        async function convertToInteractive(key) {\n",
              "          const element = document.querySelector('#df-1e9e3ed3-e3d2-4e22-aee9-2ee7dcd5ebc8');\n",
              "          const dataTable =\n",
              "            await google.colab.kernel.invokeFunction('convertToInteractive',\n",
              "                                                     [key], {});\n",
              "          if (!dataTable) return;\n",
              "\n",
              "          const docLinkHtml = 'Like what you see? Visit the ' +\n",
              "            '<a target=\"_blank\" href=https://colab.research.google.com/notebooks/data_table.ipynb>data table notebook</a>'\n",
              "            + ' to learn more about interactive tables.';\n",
              "          element.innerHTML = '';\n",
              "          dataTable['output_type'] = 'display_data';\n",
              "          await google.colab.output.renderOutput(dataTable, element);\n",
              "          const docLink = document.createElement('div');\n",
              "          docLink.innerHTML = docLinkHtml;\n",
              "          element.appendChild(docLink);\n",
              "        }\n",
              "      </script>\n",
              "    </div>\n",
              "  </div>\n",
              "  "
            ]
          },
          "metadata": {},
          "execution_count": 858
        }
      ],
      "source": [
        "df = pd.read_csv(\"water_potability.csv\")\n",
        "df.head(10)"
      ]
    },
    {
      "cell_type": "code",
      "execution_count": null,
      "metadata": {
        "colab": {
          "base_uri": "https://localhost:8080/"
        },
        "id": "-zwDqvM7NoR7",
        "outputId": "c6971fdb-a36d-4ad2-be8b-204ee62bd609"
      },
      "outputs": [
        {
          "output_type": "stream",
          "name": "stdout",
          "text": [
            "<class 'pandas.core.frame.DataFrame'>\n",
            "RangeIndex: 3276 entries, 0 to 3275\n",
            "Data columns (total 10 columns):\n",
            " #   Column           Non-Null Count  Dtype  \n",
            "---  ------           --------------  -----  \n",
            " 0   ph               2785 non-null   float64\n",
            " 1   Hardness         3276 non-null   float64\n",
            " 2   Solids           3276 non-null   float64\n",
            " 3   Chloramines      3276 non-null   float64\n",
            " 4   Sulfate          2495 non-null   float64\n",
            " 5   Conductivity     3276 non-null   float64\n",
            " 6   Organic_carbon   3276 non-null   float64\n",
            " 7   Trihalomethanes  3114 non-null   float64\n",
            " 8   Turbidity        3276 non-null   float64\n",
            " 9   Potability       3276 non-null   int64  \n",
            "dtypes: float64(9), int64(1)\n",
            "memory usage: 256.1 KB\n"
          ]
        }
      ],
      "source": [
        "df.info()"
      ]
    },
    {
      "cell_type": "markdown",
      "metadata": {
        "id": "ylBlIL4vO610"
      },
      "source": [
        "Our dataset contains following informations\n",
        "\n",
        "*   3276 instances and 10 columns\n",
        "*   All the columns are float data type except the target variable which is in in data type\n",
        "*   There are some missing values as seen in the ph, Sulfate & Trihalomethanes columns\n",
        "\n",
        "\n",
        "\n"
      ]
    },
    {
      "cell_type": "code",
      "execution_count": null,
      "metadata": {
        "colab": {
          "base_uri": "https://localhost:8080/"
        },
        "id": "P6T9jxuWNtFW",
        "outputId": "617fecf3-a337-4723-8e9b-658edca4d3f7"
      },
      "outputs": [
        {
          "output_type": "execute_result",
          "data": {
            "text/plain": [
              "ph                 491\n",
              "Hardness             0\n",
              "Solids               0\n",
              "Chloramines          0\n",
              "Sulfate            781\n",
              "Conductivity         0\n",
              "Organic_carbon       0\n",
              "Trihalomethanes    162\n",
              "Turbidity            0\n",
              "Potability           0\n",
              "dtype: int64"
            ]
          },
          "metadata": {},
          "execution_count": 860
        }
      ],
      "source": [
        "df.isnull().sum()"
      ]
    },
    {
      "cell_type": "markdown",
      "metadata": {
        "id": "dd6UeMW1Pyfw"
      },
      "source": [
        "491 missing values in ph column, 781 of those in Sulfate and 162 of those in Trihalomethanes columns which is within the range of 3-40% of total available data, thus we will fill them with mean values"
      ]
    },
    {
      "cell_type": "code",
      "execution_count": null,
      "metadata": {
        "colab": {
          "base_uri": "https://localhost:8080/",
          "height": 464
        },
        "id": "xeZN9Jy0N0Vj",
        "outputId": "e42025b4-c3f8-4838-8f64-581ad38a0688"
      },
      "outputs": [
        {
          "output_type": "execute_result",
          "data": {
            "text/plain": [
              "<matplotlib.axes._subplots.AxesSubplot at 0x7f496e6cc190>"
            ]
          },
          "metadata": {},
          "execution_count": 861
        },
        {
          "output_type": "display_data",
          "data": {
            "text/plain": [
              "<Figure size 720x432 with 1 Axes>"
            ],
            "image/png": "[encoded data removed]"
          },
          "metadata": {
            "needs_background": "light"
          }
        }
      ],
      "source": [
        "plt.figure(figsize=(10,6))\n",
        "sns.heatmap(df.isnull(), yticklabels=False, cbar=False, cmap=\"viridis\")"
      ]
    },
    {
      "cell_type": "markdown",
      "metadata": {
        "id": "f0lmJewRWEID"
      },
      "source": [
        "Removing Null Values"
      ]
    },
    {
      "cell_type": "code",
      "execution_count": null,
      "metadata": {
        "id": "3SDVwidHXSO9"
      },
      "outputs": [],
      "source": [
        "from sklearn.impute import SimpleImputer\n",
        "si = SimpleImputer(missing_values = np.nan, strategy = \"mean\")\n",
        "df[[\"ph\", \"Sulfate\", \"Trihalomethanes\"]] = si.fit_transform(df[[\"ph\", \"Sulfate\", \"Trihalomethanes\"]])"
      ]
    },
    {
      "cell_type": "code",
      "execution_count": null,
      "metadata": {
        "colab": {
          "base_uri": "https://localhost:8080/",
          "height": 464
        },
        "id": "G7akBz1pYj5D",
        "outputId": "34abf9a0-c91d-4bfe-d800-34fa1234a98b"
      },
      "outputs": [
        {
          "output_type": "execute_result",
          "data": {
            "text/plain": [
              "<matplotlib.axes._subplots.AxesSubplot at 0x7f49649311d0>"
            ]
          },
          "metadata": {},
          "execution_count": 863
        },
        {
          "output_type": "display_data",
          "data": {
            "text/plain": [
              "<Figure size 864x432 with 1 Axes>"
            ],
            "image/png": "[encoded data removed]"
          },
          "metadata": {
            "needs_background": "light"
          }
        }
      ],
      "source": [
        "plt.figure(figsize = (12,6))\n",
        "sns.heatmap(df.isnull(), yticklabels=False, cbar=False, cmap=\"viridis\")"
      ]
    },
    {
      "cell_type": "code",
      "execution_count": null,
      "metadata": {
        "colab": {
          "base_uri": "https://localhost:8080/",
          "height": 301
        },
        "id": "uL9BhHm-Ts4H",
        "outputId": "22550327-bccd-4896-f5ec-f9325ad38571"
      },
      "outputs": [
        {
          "output_type": "execute_result",
          "data": {
            "text/plain": [
              "                ph     Hardness        Solids  Chloramines      Sulfate  \\\n",
              "count  3276.000000  3276.000000   3276.000000  3276.000000  3276.000000   \n",
              "mean      7.080795   196.369496  22014.092526     7.122277   333.775777   \n",
              "std       1.469956    32.879761   8768.570828     1.583085    36.142612   \n",
              "min       0.000000    47.432000    320.942611     0.352000   129.000000   \n",
              "25%       6.277673   176.850538  15666.690297     6.127421   317.094638   \n",
              "50%       7.080795   196.967627  20927.833607     7.130299   333.775777   \n",
              "75%       7.870050   216.667456  27332.762127     8.114887   350.385756   \n",
              "max      14.000000   323.124000  61227.196008    13.127000   481.030642   \n",
              "\n",
              "       Conductivity  Organic_carbon  Trihalomethanes    Turbidity   Potability  \n",
              "count   3276.000000     3276.000000      3276.000000  3276.000000  3276.000000  \n",
              "mean     426.205111       14.284970        66.396293     3.966786     0.390110  \n",
              "std       80.824064        3.308162        15.769881     0.780382     0.487849  \n",
              "min      181.483754        2.200000         0.738000     1.450000     0.000000  \n",
              "25%      365.734414       12.065801        56.647656     3.439711     0.000000  \n",
              "50%      421.884968       14.218338        66.396293     3.955028     0.000000  \n",
              "75%      481.792304       16.557652        76.666609     4.500320     1.000000  \n",
              "max      753.342620       28.300000       124.000000     6.739000     1.000000  "
            ],
            "text/html": [
              "\n",
              "  <div id=\"df-1a34a170-4b56-4969-87ad-90323cb0f746\">\n",
              "    <div class=\"colab-df-container\">\n",
              "      <div>\n",
              "<style scoped>\n",
              "    .dataframe tbody tr th:only-of-type {\n",
              "        vertical-align: middle;\n",
              "    }\n",
              "\n",
              "    .dataframe tbody tr th {\n",
              "        vertical-align: top;\n",
              "    }\n",
              "\n",
              "    .dataframe thead th {\n",
              "        text-align: right;\n",
              "    }\n",
              "</style>\n",
              "<table border=\"1\" class=\"dataframe\">\n",
              "  <thead>\n",
              "    <tr style=\"text-align: right;\">\n",
              "      <th></th>\n",
              "      <th>ph</th>\n",
              "      <th>Hardness</th>\n",
              "      <th>Solids</th>\n",
              "      <th>Chloramines</th>\n",
              "      <th>Sulfate</th>\n",
              "      <th>Conductivity</th>\n",
              "      <th>Organic_carbon</th>\n",
              "      <th>Trihalomethanes</th>\n",
              "      <th>Turbidity</th>\n",
              "      <th>Potability</th>\n",
              "    </tr>\n",
              "  </thead>\n",
              "  <tbody>\n",
              "    <tr>\n",
              "      <th>count</th>\n",
              "      <td>3276.000000</td>\n",
              "      <td>3276.000000</td>\n",
              "      <td>3276.000000</td>\n",
              "      <td>3276.000000</td>\n",
              "      <td>3276.000000</td>\n",
              "      <td>3276.000000</td>\n",
              "      <td>3276.000000</td>\n",
              "      <td>3276.000000</td>\n",
              "      <td>3276.000000</td>\n",
              "      <td>3276.000000</td>\n",
              "    </tr>\n",
              "    <tr>\n",
              "      <th>mean</th>\n",
              "      <td>7.080795</td>\n",
              "      <td>196.369496</td>\n",
              "      <td>22014.092526</td>\n",
              "      <td>7.122277</td>\n",
              "      <td>333.775777</td>\n",
              "      <td>426.205111</td>\n",
              "      <td>14.284970</td>\n",
              "      <td>66.396293</td>\n",
              "      <td>3.966786</td>\n",
              "      <td>0.390110</td>\n",
              "    </tr>\n",
              "    <tr>\n",
              "      <th>std</th>\n",
              "      <td>1.469956</td>\n",
              "      <td>32.879761</td>\n",
              "      <td>8768.570828</td>\n",
              "      <td>1.583085</td>\n",
              "      <td>36.142612</td>\n",
              "      <td>80.824064</td>\n",
              "      <td>3.308162</td>\n",
              "      <td>15.769881</td>\n",
              "      <td>0.780382</td>\n",
              "      <td>0.487849</td>\n",
              "    </tr>\n",
              "    <tr>\n",
              "      <th>min</th>\n",
              "      <td>0.000000</td>\n",
              "      <td>47.432000</td>\n",
              "      <td>320.942611</td>\n",
              "      <td>0.352000</td>\n",
              "      <td>129.000000</td>\n",
              "      <td>181.483754</td>\n",
              "      <td>2.200000</td>\n",
              "      <td>0.738000</td>\n",
              "      <td>1.450000</td>\n",
              "      <td>0.000000</td>\n",
              "    </tr>\n",
              "    <tr>\n",
              "      <th>25%</th>\n",
              "      <td>6.277673</td>\n",
              "      <td>176.850538</td>\n",
              "      <td>15666.690297</td>\n",
              "      <td>6.127421</td>\n",
              "      <td>317.094638</td>\n",
              "      <td>365.734414</td>\n",
              "      <td>12.065801</td>\n",
              "      <td>56.647656</td>\n",
              "      <td>3.439711</td>\n",
              "      <td>0.000000</td>\n",
              "    </tr>\n",
              "    <tr>\n",
              "      <th>50%</th>\n",
              "      <td>7.080795</td>\n",
              "      <td>196.967627</td>\n",
              "      <td>20927.833607</td>\n",
              "      <td>7.130299</td>\n",
              "      <td>333.775777</td>\n",
              "      <td>421.884968</td>\n",
              "      <td>14.218338</td>\n",
              "      <td>66.396293</td>\n",
              "      <td>3.955028</td>\n",
              "      <td>0.000000</td>\n",
              "    </tr>\n",
              "    <tr>\n",
              "      <th>75%</th>\n",
              "      <td>7.870050</td>\n",
              "      <td>216.667456</td>\n",
              "      <td>27332.762127</td>\n",
              "      <td>8.114887</td>\n",
              "      <td>350.385756</td>\n",
              "      <td>481.792304</td>\n",
              "      <td>16.557652</td>\n",
              "      <td>76.666609</td>\n",
              "      <td>4.500320</td>\n",
              "      <td>1.000000</td>\n",
              "    </tr>\n",
              "    <tr>\n",
              "      <th>max</th>\n",
              "      <td>14.000000</td>\n",
              "      <td>323.124000</td>\n",
              "      <td>61227.196008</td>\n",
              "      <td>13.127000</td>\n",
              "      <td>481.030642</td>\n",
              "      <td>753.342620</td>\n",
              "      <td>28.300000</td>\n",
              "      <td>124.000000</td>\n",
              "      <td>6.739000</td>\n",
              "      <td>1.000000</td>\n",
              "    </tr>\n",
              "  </tbody>\n",
              "</table>\n",
              "</div>\n",
              "      <button class=\"colab-df-convert\" onclick=\"convertToInteractive('df-1a34a170-4b56-4969-87ad-90323cb0f746')\"\n",
              "              title=\"Convert this dataframe to an interactive table.\"\n",
              "              style=\"display:none;\">\n",
              "        \n",
              "  <svg xmlns=\"http://www.w3.org/2000/svg\" height=\"24px\"viewBox=\"0 0 24 24\"\n",
              "       width=\"24px\">\n",
              "    <path d=\"M0 0h24v24H0V0z\" fill=\"none\"/>\n",
              "    <path d=\"M18.56 5.44l.94 2.06.94-2.06 2.06-.94-2.06-.94-.94-2.06-.94 2.06-2.06.94zm-11 1L8.5 8.5l.94-2.06 2.06-.94-2.06-.94L8.5 2.5l-.94 2.06-2.06.94zm10 10l.94 2.06.94-2.06 2.06-.94-2.06-.94-.94-2.06-.94 2.06-2.06.94z\"/><path d=\"M17.41 7.96l-1.37-1.37c-.4-.4-.92-.59-1.43-.59-.52 0-1.04.2-1.43.59L10.3 9.45l-7.72 7.72c-.78.78-.78 2.05 0 2.83L4 21.41c.39.39.9.59 1.41.59.51 0 1.02-.2 1.41-.59l7.78-7.78 2.81-2.81c.8-.78.8-2.07 0-2.86zM5.41 20L4 18.59l7.72-7.72 1.47 1.35L5.41 20z\"/>\n",
              "  </svg>\n",
              "      </button>\n",
              "      \n",
              "  <style>\n",
              "    .colab-df-container {\n",
              "      display:flex;\n",
              "      flex-wrap:wrap;\n",
              "      gap: 12px;\n",
              "    }\n",
              "\n",
              "    .colab-df-convert {\n",
              "      background-color: #E8F0FE;\n",
              "      border: none;\n",
              "      border-radius: 50%;\n",
              "      cursor: pointer;\n",
              "      display: none;\n",
              "      fill: #1967D2;\n",
              "      height: 32px;\n",
              "      padding: 0 0 0 0;\n",
              "      width: 32px;\n",
              "    }\n",
              "\n",
              "    .colab-df-convert:hover {\n",
              "      background-color: #E2EBFA;\n",
              "      box-shadow: 0px 1px 2px rgba(60, 64, 67, 0.3), 0px 1px 3px 1px rgba(60, 64, 67, 0.15);\n",
              "      fill: #174EA6;\n",
              "    }\n",
              "\n",
              "    [theme=dark] .colab-df-convert {\n",
              "      background-color: #3B4455;\n",
              "      fill: #D2E3FC;\n",
              "    }\n",
              "\n",
              "    [theme=dark] .colab-df-convert:hover {\n",
              "      background-color: #434B5C;\n",
              "      box-shadow: 0px 1px 3px 1px rgba(0, 0, 0, 0.15);\n",
              "      filter: drop-shadow(0px 1px 2px rgba(0, 0, 0, 0.3));\n",
              "      fill: #FFFFFF;\n",
              "    }\n",
              "  </style>\n",
              "\n",
              "      <script>\n",
              "        const buttonEl =\n",
              "          document.querySelector('#df-1a34a170-4b56-4969-87ad-90323cb0f746 button.colab-df-convert');\n",
              "        buttonEl.style.display =\n",
              "          google.colab.kernel.accessAllowed ? 'block' : 'none';\n",
              "\n",
              "        async function convertToInteractive(key) {\n",
              "          const element = document.querySelector('#df-1a34a170-4b56-4969-87ad-90323cb0f746');\n",
              "          const dataTable =\n",
              "            await google.colab.kernel.invokeFunction('convertToInteractive',\n",
              "                                                     [key], {});\n",
              "          if (!dataTable) return;\n",
              "\n",
              "          const docLinkHtml = 'Like what you see? Visit the ' +\n",
              "            '<a target=\"_blank\" href=https://colab.research.google.com/notebooks/data_table.ipynb>data table notebook</a>'\n",
              "            + ' to learn more about interactive tables.';\n",
              "          element.innerHTML = '';\n",
              "          dataTable['output_type'] = 'display_data';\n",
              "          await google.colab.output.renderOutput(dataTable, element);\n",
              "          const docLink = document.createElement('div');\n",
              "          docLink.innerHTML = docLinkHtml;\n",
              "          element.appendChild(docLink);\n",
              "        }\n",
              "      </script>\n",
              "    </div>\n",
              "  </div>\n",
              "  "
            ]
          },
          "metadata": {},
          "execution_count": 864
        }
      ],
      "source": [
        "df.describe()"
      ]
    },
    {
      "cell_type": "markdown",
      "metadata": {
        "id": "wtz5b-xlVUTb"
      },
      "source": [
        "From above information we draw following conclusions:\n",
        "\n",
        "*   In all the columns, mean is almost equal to median, though it is a little on a higher side which shows a little right side skewness but those are marginal.\n",
        "*   Only \"Solids\" column has some visible skewness as mean is greater than median by an amount of roughly around 1900 units which shows right side skewness\n",
        "\n"
      ]
    },
    {
      "cell_type": "code",
      "execution_count": null,
      "metadata": {
        "colab": {
          "base_uri": "https://localhost:8080/",
          "height": 416
        },
        "id": "tiSy3LOuUC8x",
        "outputId": "0205e74c-042a-4b0c-dc29-cf69c4324cb8"
      },
      "outputs": [
        {
          "output_type": "execute_result",
          "data": {
            "text/plain": [
              "<matplotlib.axes._subplots.AxesSubplot at 0x7f4964897d10>"
            ]
          },
          "metadata": {},
          "execution_count": 865
        },
        {
          "output_type": "display_data",
          "data": {
            "text/plain": [
              "<Figure size 864x432 with 1 Axes>"
            ],
            "image/png": "[encoded data removed]"
          },
          "metadata": {
            "needs_background": "light"
          }
        }
      ],
      "source": [
        "plt.figure(figsize = (12,6))\n",
        "sns.distplot(df[\"Solids\"])"
      ]
    },
    {
      "cell_type": "markdown",
      "metadata": {
        "id": "KQo4tmtfWJoM"
      },
      "source": [
        "- We can see rights side skewness from above distribution plot\n",
        "- Plotting the hetmap to find out if there is any correlations among the dependent variables in our data"
      ]
    },
    {
      "cell_type": "code",
      "execution_count": null,
      "metadata": {
        "colab": {
          "base_uri": "https://localhost:8080/",
          "height": 468
        },
        "id": "xMJ69gksYw4f",
        "outputId": "c33df720-31c8-4079-85e4-bbd77259a906"
      },
      "outputs": [
        {
          "output_type": "execute_result",
          "data": {
            "text/plain": [
              "<matplotlib.axes._subplots.AxesSubplot at 0x7f4964732190>"
            ]
          },
          "metadata": {},
          "execution_count": 866
        },
        {
          "output_type": "display_data",
          "data": {
            "text/plain": [
              "<Figure size 864x432 with 2 Axes>"
            ],
            "image/png": "[encoded data removed]"
          },
          "metadata": {
            "needs_background": "light"
          }
        }
      ],
      "source": [
        "plt.figure(figsize = (12,6))\n",
        "sns.heatmap(data = df.corr(), annot = True)"
      ]
    },
    {
      "cell_type": "markdown",
      "metadata": {
        "id": "ykWacLoGWeI2"
      },
      "source": [
        "There are some correlations between \"sulfates\" and \"Solids\" columns but first we will check the outliers and see if above situations improves after removing the outliers"
      ]
    },
    {
      "cell_type": "code",
      "execution_count": null,
      "metadata": {
        "colab": {
          "base_uri": "https://localhost:8080/",
          "height": 363
        },
        "id": "8NIvyUrFcgtI",
        "outputId": "07af2f89-811f-4a77-db94-ca934d74885c"
      },
      "outputs": [
        {
          "output_type": "execute_result",
          "data": {
            "text/plain": [
              "          ph    Hardness        Solids  Chloramines     Sulfate  Conductivity  \\\n",
              "0   7.080795  204.890455  20791.318981     7.300212  368.516441    564.308654   \n",
              "1   3.716080  129.422921  18630.057858     6.635246  333.775777    592.885359   \n",
              "2   8.099124  224.236259  19909.541732     9.275884  333.775777    418.606213   \n",
              "3   8.316766  214.373394  22018.417441     8.059332  356.886136    363.266516   \n",
              "4   9.092223  181.101509  17978.986339     6.546600  310.135738    398.410813   \n",
              "5   5.584087  188.313324  28748.687739     7.544869  326.678363    280.467916   \n",
              "6  10.223862  248.071735  28749.716544     7.513408  393.663396    283.651634   \n",
              "7   8.635849  203.361523  13672.091764     4.563009  303.309771    474.607645   \n",
              "8   7.080795  118.988579  14285.583854     7.804174  268.646941    389.375566   \n",
              "9  11.180284  227.231469  25484.508491     9.077200  404.041635    563.885481   \n",
              "\n",
              "   Organic_carbon  Trihalomethanes  Turbidity  Potability  \n",
              "0       10.379783        86.990970   2.963135           0  \n",
              "1       15.180013        56.329076   4.500656           0  \n",
              "2       16.868637        66.420093   3.055934           0  \n",
              "3       18.436524       100.341674   4.628771           0  \n",
              "4       11.558279        31.997993   4.075075           0  \n",
              "5        8.399735        54.917862   2.559708           0  \n",
              "6       13.789695        84.603556   2.672989           0  \n",
              "7       12.363817        62.798309   4.401425           0  \n",
              "8       12.706049        53.928846   3.595017           0  \n",
              "9       17.927806        71.976601   4.370562           0  "
            ],
            "text/html": [
              "\n",
              "  <div id=\"df-be8b1dc3-cf92-4d29-be71-53be0460b79f\">\n",
              "    <div class=\"colab-df-container\">\n",
              "      <div>\n",
              "<style scoped>\n",
              "    .dataframe tbody tr th:only-of-type {\n",
              "        vertical-align: middle;\n",
              "    }\n",
              "\n",
              "    .dataframe tbody tr th {\n",
              "        vertical-align: top;\n",
              "    }\n",
              "\n",
              "    .dataframe thead th {\n",
              "        text-align: right;\n",
              "    }\n",
              "</style>\n",
              "<table border=\"1\" class=\"dataframe\">\n",
              "  <thead>\n",
              "    <tr style=\"text-align: right;\">\n",
              "      <th></th>\n",
              "      <th>ph</th>\n",
              "      <th>Hardness</th>\n",
              "      <th>Solids</th>\n",
              "      <th>Chloramines</th>\n",
              "      <th>Sulfate</th>\n",
              "      <th>Conductivity</th>\n",
              "      <th>Organic_carbon</th>\n",
              "      <th>Trihalomethanes</th>\n",
              "      <th>Turbidity</th>\n",
              "      <th>Potability</th>\n",
              "    </tr>\n",
              "  </thead>\n",
              "  <tbody>\n",
              "    <tr>\n",
              "      <th>0</th>\n",
              "      <td>7.080795</td>\n",
              "      <td>204.890455</td>\n",
              "      <td>20791.318981</td>\n",
              "      <td>7.300212</td>\n",
              "      <td>368.516441</td>\n",
              "      <td>564.308654</td>\n",
              "      <td>10.379783</td>\n",
              "      <td>86.990970</td>\n",
              "      <td>2.963135</td>\n",
              "      <td>0</td>\n",
              "    </tr>\n",
              "    <tr>\n",
              "      <th>1</th>\n",
              "      <td>3.716080</td>\n",
              "      <td>129.422921</td>\n",
              "      <td>18630.057858</td>\n",
              "      <td>6.635246</td>\n",
              "      <td>333.775777</td>\n",
              "      <td>592.885359</td>\n",
              "      <td>15.180013</td>\n",
              "      <td>56.329076</td>\n",
              "      <td>4.500656</td>\n",
              "      <td>0</td>\n",
              "    </tr>\n",
              "    <tr>\n",
              "      <th>2</th>\n",
              "      <td>8.099124</td>\n",
              "      <td>224.236259</td>\n",
              "      <td>19909.541732</td>\n",
              "      <td>9.275884</td>\n",
              "      <td>333.775777</td>\n",
              "      <td>418.606213</td>\n",
              "      <td>16.868637</td>\n",
              "      <td>66.420093</td>\n",
              "      <td>3.055934</td>\n",
              "      <td>0</td>\n",
              "    </tr>\n",
              "    <tr>\n",
              "      <th>3</th>\n",
              "      <td>8.316766</td>\n",
              "      <td>214.373394</td>\n",
              "      <td>22018.417441</td>\n",
              "      <td>8.059332</td>\n",
              "      <td>356.886136</td>\n",
              "      <td>363.266516</td>\n",
              "      <td>18.436524</td>\n",
              "      <td>100.341674</td>\n",
              "      <td>4.628771</td>\n",
              "      <td>0</td>\n",
              "    </tr>\n",
              "    <tr>\n",
              "      <th>4</th>\n",
              "      <td>9.092223</td>\n",
              "      <td>181.101509</td>\n",
              "      <td>17978.986339</td>\n",
              "      <td>6.546600</td>\n",
              "      <td>310.135738</td>\n",
              "      <td>398.410813</td>\n",
              "      <td>11.558279</td>\n",
              "      <td>31.997993</td>\n",
              "      <td>4.075075</td>\n",
              "      <td>0</td>\n",
              "    </tr>\n",
              "    <tr>\n",
              "      <th>5</th>\n",
              "      <td>5.584087</td>\n",
              "      <td>188.313324</td>\n",
              "      <td>28748.687739</td>\n",
              "      <td>7.544869</td>\n",
              "      <td>326.678363</td>\n",
              "      <td>280.467916</td>\n",
              "      <td>8.399735</td>\n",
              "      <td>54.917862</td>\n",
              "      <td>2.559708</td>\n",
              "      <td>0</td>\n",
              "    </tr>\n",
              "    <tr>\n",
              "      <th>6</th>\n",
              "      <td>10.223862</td>\n",
              "      <td>248.071735</td>\n",
              "      <td>28749.716544</td>\n",
              "      <td>7.513408</td>\n",
              "      <td>393.663396</td>\n",
              "      <td>283.651634</td>\n",
              "      <td>13.789695</td>\n",
              "      <td>84.603556</td>\n",
              "      <td>2.672989</td>\n",
              "      <td>0</td>\n",
              "    </tr>\n",
              "    <tr>\n",
              "      <th>7</th>\n",
              "      <td>8.635849</td>\n",
              "      <td>203.361523</td>\n",
              "      <td>13672.091764</td>\n",
              "      <td>4.563009</td>\n",
              "      <td>303.309771</td>\n",
              "      <td>474.607645</td>\n",
              "      <td>12.363817</td>\n",
              "      <td>62.798309</td>\n",
              "      <td>4.401425</td>\n",
              "      <td>0</td>\n",
              "    </tr>\n",
              "    <tr>\n",
              "      <th>8</th>\n",
              "      <td>7.080795</td>\n",
              "      <td>118.988579</td>\n",
              "      <td>14285.583854</td>\n",
              "      <td>7.804174</td>\n",
              "      <td>268.646941</td>\n",
              "      <td>389.375566</td>\n",
              "      <td>12.706049</td>\n",
              "      <td>53.928846</td>\n",
              "      <td>3.595017</td>\n",
              "      <td>0</td>\n",
              "    </tr>\n",
              "    <tr>\n",
              "      <th>9</th>\n",
              "      <td>11.180284</td>\n",
              "      <td>227.231469</td>\n",
              "      <td>25484.508491</td>\n",
              "      <td>9.077200</td>\n",
              "      <td>404.041635</td>\n",
              "      <td>563.885481</td>\n",
              "      <td>17.927806</td>\n",
              "      <td>71.976601</td>\n",
              "      <td>4.370562</td>\n",
              "      <td>0</td>\n",
              "    </tr>\n",
              "  </tbody>\n",
              "</table>\n",
              "</div>\n",
              "      <button class=\"colab-df-convert\" onclick=\"convertToInteractive('df-be8b1dc3-cf92-4d29-be71-53be0460b79f')\"\n",
              "              title=\"Convert this dataframe to an interactive table.\"\n",
              "              style=\"display:none;\">\n",
              "        \n",
              "  <svg xmlns=\"http://www.w3.org/2000/svg\" height=\"24px\"viewBox=\"0 0 24 24\"\n",
              "       width=\"24px\">\n",
              "    <path d=\"M0 0h24v24H0V0z\" fill=\"none\"/>\n",
              "    <path d=\"M18.56 5.44l.94 2.06.94-2.06 2.06-.94-2.06-.94-.94-2.06-.94 2.06-2.06.94zm-11 1L8.5 8.5l.94-2.06 2.06-.94-2.06-.94L8.5 2.5l-.94 2.06-2.06.94zm10 10l.94 2.06.94-2.06 2.06-.94-2.06-.94-.94-2.06-.94 2.06-2.06.94z\"/><path d=\"M17.41 7.96l-1.37-1.37c-.4-.4-.92-.59-1.43-.59-.52 0-1.04.2-1.43.59L10.3 9.45l-7.72 7.72c-.78.78-.78 2.05 0 2.83L4 21.41c.39.39.9.59 1.41.59.51 0 1.02-.2 1.41-.59l7.78-7.78 2.81-2.81c.8-.78.8-2.07 0-2.86zM5.41 20L4 18.59l7.72-7.72 1.47 1.35L5.41 20z\"/>\n",
              "  </svg>\n",
              "      </button>\n",
              "      \n",
              "  <style>\n",
              "    .colab-df-container {\n",
              "      display:flex;\n",
              "      flex-wrap:wrap;\n",
              "      gap: 12px;\n",
              "    }\n",
              "\n",
              "    .colab-df-convert {\n",
              "      background-color: #E8F0FE;\n",
              "      border: none;\n",
              "      border-radius: 50%;\n",
              "      cursor: pointer;\n",
              "      display: none;\n",
              "      fill: #1967D2;\n",
              "      height: 32px;\n",
              "      padding: 0 0 0 0;\n",
              "      width: 32px;\n",
              "    }\n",
              "\n",
              "    .colab-df-convert:hover {\n",
              "      background-color: #E2EBFA;\n",
              "      box-shadow: 0px 1px 2px rgba(60, 64, 67, 0.3), 0px 1px 3px 1px rgba(60, 64, 67, 0.15);\n",
              "      fill: #174EA6;\n",
              "    }\n",
              "\n",
              "    [theme=dark] .colab-df-convert {\n",
              "      background-color: #3B4455;\n",
              "      fill: #D2E3FC;\n",
              "    }\n",
              "\n",
              "    [theme=dark] .colab-df-convert:hover {\n",
              "      background-color: #434B5C;\n",
              "      box-shadow: 0px 1px 3px 1px rgba(0, 0, 0, 0.15);\n",
              "      filter: drop-shadow(0px 1px 2px rgba(0, 0, 0, 0.3));\n",
              "      fill: #FFFFFF;\n",
              "    }\n",
              "  </style>\n",
              "\n",
              "      <script>\n",
              "        const buttonEl =\n",
              "          document.querySelector('#df-be8b1dc3-cf92-4d29-be71-53be0460b79f button.colab-df-convert');\n",
              "        buttonEl.style.display =\n",
              "          google.colab.kernel.accessAllowed ? 'block' : 'none';\n",
              "\n",
              "        async function convertToInteractive(key) {\n",
              "          const element = document.querySelector('#df-be8b1dc3-cf92-4d29-be71-53be0460b79f');\n",
              "          const dataTable =\n",
              "            await google.colab.kernel.invokeFunction('convertToInteractive',\n",
              "                                                     [key], {});\n",
              "          if (!dataTable) return;\n",
              "\n",
              "          const docLinkHtml = 'Like what you see? Visit the ' +\n",
              "            '<a target=\"_blank\" href=https://colab.research.google.com/notebooks/data_table.ipynb>data table notebook</a>'\n",
              "            + ' to learn more about interactive tables.';\n",
              "          element.innerHTML = '';\n",
              "          dataTable['output_type'] = 'display_data';\n",
              "          await google.colab.output.renderOutput(dataTable, element);\n",
              "          const docLink = document.createElement('div');\n",
              "          docLink.innerHTML = docLinkHtml;\n",
              "          element.appendChild(docLink);\n",
              "        }\n",
              "      </script>\n",
              "    </div>\n",
              "  </div>\n",
              "  "
            ]
          },
          "metadata": {},
          "execution_count": 867
        }
      ],
      "source": [
        "df.head(10)"
      ]
    },
    {
      "cell_type": "markdown",
      "metadata": {
        "id": "P9pEhcNGW071"
      },
      "source": [
        "Splitting the data into features and targets for analysis"
      ]
    },
    {
      "cell_type": "code",
      "execution_count": null,
      "metadata": {
        "id": "g6ZcSmwXY8PL"
      },
      "outputs": [],
      "source": [
        "x = df.iloc[:, :-1]\n",
        "y = df.iloc[:, -1]"
      ]
    },
    {
      "cell_type": "code",
      "execution_count": null,
      "metadata": {
        "id": "9Q07vFb9Fjn2"
      },
      "outputs": [],
      "source": [
        "colname = x.columns"
      ]
    },
    {
      "cell_type": "markdown",
      "metadata": {
        "id": "8uustIuZW_E_"
      },
      "source": [
        "Scaling the dataset as there are variations in readings range to a great extent we are scaling the date to bring it to similar range forn comparison and ANN model requires data in scaled manner"
      ]
    },
    {
      "cell_type": "code",
      "execution_count": null,
      "metadata": {
        "id": "EKUhxuZSdSic"
      },
      "outputs": [],
      "source": [
        "from sklearn.preprocessing import StandardScaler\n",
        "sc = StandardScaler()\n",
        "x = sc.fit_transform(x)"
      ]
    },
    {
      "cell_type": "code",
      "execution_count": null,
      "metadata": {
        "colab": {
          "base_uri": "https://localhost:8080/"
        },
        "id": "rh0DawMpD9BZ",
        "outputId": "1c36869a-e884-4fb8-a1a7-d020c2a78452"
      },
      "outputs": [
        {
          "output_type": "stream",
          "name": "stdout",
          "text": [
            "X shape : (3276, 9), Y Shape : (3276,)\n"
          ]
        }
      ],
      "source": [
        "x = pd.DataFrame(x, columns=colname)\n",
        "print(f\"X shape : {x.shape}, Y Shape : {y.shape}\")"
      ]
    },
    {
      "cell_type": "markdown",
      "metadata": {
        "id": "4nZ9Arj-Xl95"
      },
      "source": [
        "Converting the array recieved from Standard Scaler to DataFrame for plotting a boxplot and check the outliers"
      ]
    },
    {
      "cell_type": "code",
      "execution_count": null,
      "metadata": {
        "colab": {
          "base_uri": "https://localhost:8080/",
          "height": 375
        },
        "id": "NlSyT1kkdBhu",
        "outputId": "dd6fcbae-ccb7-44c9-de11-22dc3bb85a01"
      },
      "outputs": [
        {
          "output_type": "display_data",
          "data": {
            "text/plain": [
              "<Figure size 864x432 with 1 Axes>"
            ],
            "image/png": "[encoded data removed]"
          },
          "metadata": {
            "needs_background": "light"
          }
        }
      ],
      "source": [
        "plt.figure(figsize = (12,6))\n",
        "sns.boxplot(data = x)\n",
        "plt.grid()"
      ]
    },
    {
      "cell_type": "markdown",
      "metadata": {
        "id": "UyGvgQttbHDV"
      },
      "source": [
        "I tried removing outliers but the accuracy & recall value was reduced, hence we will not remove the outliers. Now, we can move to model building now"
      ]
    },
    {
      "cell_type": "code",
      "execution_count": null,
      "metadata": {
        "colab": {
          "base_uri": "https://localhost:8080/"
        },
        "id": "Y3pOTJmDcnL_",
        "outputId": "b1968afc-0e2b-4fbb-ff2a-eb63b76a118d"
      },
      "outputs": [
        {
          "output_type": "execute_result",
          "data": {
            "text/plain": [
              "0    1998\n",
              "1    1278\n",
              "Name: Potability, dtype: int64"
            ]
          },
          "metadata": {},
          "execution_count": 873
        }
      ],
      "source": [
        "y.value_counts()"
      ]
    },
    {
      "cell_type": "markdown",
      "metadata": {
        "id": "jvJDkbeDbXf2"
      },
      "source": [
        "- There is some varied distribution in the target varible and thus we will stratify the data in training the model.\n",
        "- Building the model now"
      ]
    },
    {
      "cell_type": "code",
      "execution_count": null,
      "metadata": {
        "id": "4kE0XNXwczKA"
      },
      "outputs": [],
      "source": [
        "from sklearn.model_selection import train_test_split\n",
        "xtrain, xtest, ytrain, ytest = train_test_split(x, y, test_size = 0.2, random_state=100, stratify=y)"
      ]
    },
    {
      "cell_type": "code",
      "execution_count": null,
      "metadata": {
        "id": "Awxfi9z4ejLD"
      },
      "outputs": [],
      "source": [
        "import tensorflow as tf\n",
        "from tensorflow.keras.models import Sequential\n",
        "from tensorflow.keras.layers import Dense\n",
        "from tensorflow.keras.layers import Dropout"
      ]
    },
    {
      "cell_type": "markdown",
      "metadata": {
        "id": "mvolo5oKfETr"
      },
      "source": [
        "Model Building"
      ]
    },
    {
      "cell_type": "code",
      "execution_count": null,
      "metadata": {
        "id": "yXwaLPmre3QE"
      },
      "outputs": [],
      "source": [
        "ann = Sequential()\n",
        "\n",
        "ann.add(Dense(units = 32, activation = \"relu\"))\n",
        "ann.add(Dropout(rate=0.5))\n",
        "ann.add(Dense(units = 16, activation = \"relu\"))\n",
        "ann.add(Dropout(rate=0.5))\n",
        "ann.add(Dense(units = 8, activation = \"relu\"))\n",
        "ann.add(Dropout(rate=0.5))\n",
        "ann.add(Dense(units = 8, activation = \"relu\"))\n",
        "ann.add(Dropout(rate=0.5))\n",
        "\n",
        "ann.add(Dense(units = 1, activation = \"sigmoid\"))\n",
        "\n",
        "ann.compile(optimizer = \"adam\", loss=\"binary_crossentropy\")"
      ]
    },
    {
      "cell_type": "code",
      "execution_count": null,
      "metadata": {
        "colab": {
          "base_uri": "https://localhost:8080/"
        },
        "id": "tsUAnYjXl3vt",
        "outputId": "7ed28379-b3b1-4b50-cb1c-eaaf9b501cda"
      },
      "outputs": [
        {
          "output_type": "stream",
          "name": "stdout",
          "text": [
            "Epoch 1/600\n",
            "82/82 [==============================] - 1s 5ms/step - loss: 0.7164 - val_loss: 0.6826\n",
            "Epoch 2/600\n",
            "82/82 [==============================] - 0s 3ms/step - loss: 0.6990 - val_loss: 0.6808\n",
            "Epoch 3/600\n",
            "82/82 [==============================] - 0s 3ms/step - loss: 0.6877 - val_loss: 0.6784\n",
            "Epoch 4/600\n",
            "82/82 [==============================] - 0s 3ms/step - loss: 0.6812 - val_loss: 0.6761\n",
            "Epoch 5/600\n",
            "82/82 [==============================] - 0s 3ms/step - loss: 0.6806 - val_loss: 0.6743\n",
            "Epoch 6/600\n",
            "82/82 [==============================] - 0s 3ms/step - loss: 0.6773 - val_loss: 0.6728\n",
            "Epoch 7/600\n",
            "82/82 [==============================] - 0s 3ms/step - loss: 0.6744 - val_loss: 0.6720\n",
            "Epoch 8/600\n",
            "82/82 [==============================] - 0s 4ms/step - loss: 0.6726 - val_loss: 0.6713\n",
            "Epoch 9/600\n",
            "82/82 [==============================] - 0s 3ms/step - loss: 0.6730 - val_loss: 0.6708\n",
            "Epoch 10/600\n",
            "82/82 [==============================] - 0s 3ms/step - loss: 0.6705 - val_loss: 0.6704\n",
            "Epoch 11/600\n",
            "82/82 [==============================] - 0s 3ms/step - loss: 0.6704 - val_loss: 0.6701\n",
            "Epoch 12/600\n",
            "82/82 [==============================] - 0s 3ms/step - loss: 0.6712 - val_loss: 0.6698\n",
            "Epoch 13/600\n",
            "82/82 [==============================] - 0s 3ms/step - loss: 0.6704 - val_loss: 0.6697\n",
            "Epoch 14/600\n",
            "82/82 [==============================] - 0s 3ms/step - loss: 0.6707 - val_loss: 0.6696\n",
            "Epoch 15/600\n",
            "82/82 [==============================] - 0s 3ms/step - loss: 0.6703 - val_loss: 0.6696\n",
            "Epoch 16/600\n",
            "82/82 [==============================] - 0s 3ms/step - loss: 0.6709 - val_loss: 0.6696\n",
            "Epoch 17/600\n",
            "82/82 [==============================] - 0s 3ms/step - loss: 0.6681 - val_loss: 0.6695\n",
            "Epoch 18/600\n",
            "82/82 [==============================] - 0s 3ms/step - loss: 0.6679 - val_loss: 0.6694\n",
            "Epoch 19/600\n",
            "82/82 [==============================] - 0s 4ms/step - loss: 0.6709 - val_loss: 0.6695\n",
            "Epoch 20/600\n",
            "82/82 [==============================] - 0s 4ms/step - loss: 0.6693 - val_loss: 0.6696\n",
            "Epoch 21/600\n",
            "82/82 [==============================] - 0s 3ms/step - loss: 0.6678 - val_loss: 0.6695\n",
            "Epoch 22/600\n",
            "82/82 [==============================] - 0s 3ms/step - loss: 0.6699 - val_loss: 0.6694\n",
            "Epoch 23/600\n",
            "82/82 [==============================] - 0s 3ms/step - loss: 0.6694 - val_loss: 0.6694\n",
            "Epoch 24/600\n",
            "82/82 [==============================] - 0s 3ms/step - loss: 0.6708 - val_loss: 0.6694\n",
            "Epoch 25/600\n",
            "82/82 [==============================] - 0s 3ms/step - loss: 0.6693 - val_loss: 0.6694\n",
            "Epoch 26/600\n",
            "82/82 [==============================] - 0s 3ms/step - loss: 0.6690 - val_loss: 0.6694\n",
            "Epoch 27/600\n",
            "82/82 [==============================] - 0s 3ms/step - loss: 0.6687 - val_loss: 0.6693\n",
            "Epoch 28/600\n",
            "82/82 [==============================] - 0s 3ms/step - loss: 0.6691 - val_loss: 0.6692\n",
            "Epoch 29/600\n",
            "82/82 [==============================] - 0s 3ms/step - loss: 0.6680 - val_loss: 0.6693\n",
            "Epoch 30/600\n",
            "82/82 [==============================] - 0s 3ms/step - loss: 0.6690 - val_loss: 0.6692\n",
            "Epoch 31/600\n",
            "82/82 [==============================] - 0s 3ms/step - loss: 0.6687 - val_loss: 0.6692\n",
            "Epoch 32/600\n",
            "82/82 [==============================] - 0s 3ms/step - loss: 0.6687 - val_loss: 0.6692\n",
            "Epoch 33/600\n",
            "82/82 [==============================] - 0s 3ms/step - loss: 0.6690 - val_loss: 0.6693\n",
            "Epoch 34/600\n",
            "82/82 [==============================] - 0s 3ms/step - loss: 0.6678 - val_loss: 0.6692\n",
            "Epoch 35/600\n",
            "82/82 [==============================] - 0s 3ms/step - loss: 0.6690 - val_loss: 0.6692\n",
            "Epoch 36/600\n",
            "82/82 [==============================] - 0s 3ms/step - loss: 0.6688 - val_loss: 0.6692\n",
            "Epoch 37/600\n",
            "82/82 [==============================] - 0s 4ms/step - loss: 0.6686 - val_loss: 0.6691\n",
            "Epoch 38/600\n",
            "82/82 [==============================] - 0s 3ms/step - loss: 0.6687 - val_loss: 0.6690\n",
            "Epoch 39/600\n",
            "82/82 [==============================] - 0s 3ms/step - loss: 0.6684 - val_loss: 0.6690\n",
            "Epoch 40/600\n",
            "82/82 [==============================] - 0s 3ms/step - loss: 0.6678 - val_loss: 0.6690\n",
            "Epoch 41/600\n",
            "82/82 [==============================] - 0s 3ms/step - loss: 0.6688 - val_loss: 0.6690\n",
            "Epoch 42/600\n",
            "82/82 [==============================] - 0s 3ms/step - loss: 0.6681 - val_loss: 0.6690\n",
            "Epoch 43/600\n",
            "82/82 [==============================] - 0s 3ms/step - loss: 0.6685 - val_loss: 0.6690\n",
            "Epoch 44/600\n",
            "82/82 [==============================] - 0s 3ms/step - loss: 0.6696 - val_loss: 0.6690\n",
            "Epoch 45/600\n",
            "82/82 [==============================] - 0s 3ms/step - loss: 0.6686 - val_loss: 0.6690\n",
            "Epoch 46/600\n",
            "82/82 [==============================] - 0s 3ms/step - loss: 0.6674 - val_loss: 0.6689\n",
            "Epoch 47/600\n",
            "82/82 [==============================] - 0s 3ms/step - loss: 0.6684 - val_loss: 0.6688\n",
            "Epoch 48/600\n",
            "82/82 [==============================] - 0s 3ms/step - loss: 0.6675 - val_loss: 0.6686\n",
            "Epoch 49/600\n",
            "82/82 [==============================] - 0s 3ms/step - loss: 0.6695 - val_loss: 0.6685\n",
            "Epoch 50/600\n",
            "82/82 [==============================] - 0s 4ms/step - loss: 0.6678 - val_loss: 0.6685\n",
            "Epoch 51/600\n",
            "82/82 [==============================] - 0s 3ms/step - loss: 0.6671 - val_loss: 0.6684\n",
            "Epoch 52/600\n",
            "82/82 [==============================] - 0s 3ms/step - loss: 0.6672 - val_loss: 0.6680\n",
            "Epoch 53/600\n",
            "82/82 [==============================] - 0s 3ms/step - loss: 0.6652 - val_loss: 0.6677\n",
            "Epoch 54/600\n",
            "82/82 [==============================] - 0s 3ms/step - loss: 0.6674 - val_loss: 0.6675\n",
            "Epoch 55/600\n",
            "82/82 [==============================] - 0s 3ms/step - loss: 0.6691 - val_loss: 0.6674\n",
            "Epoch 56/600\n",
            "82/82 [==============================] - 0s 3ms/step - loss: 0.6693 - val_loss: 0.6678\n",
            "Epoch 57/600\n",
            "82/82 [==============================] - 0s 3ms/step - loss: 0.6659 - val_loss: 0.6672\n",
            "Epoch 58/600\n",
            "82/82 [==============================] - 0s 3ms/step - loss: 0.6677 - val_loss: 0.6671\n",
            "Epoch 59/600\n",
            "82/82 [==============================] - 0s 3ms/step - loss: 0.6667 - val_loss: 0.6662\n",
            "Epoch 60/600\n",
            "82/82 [==============================] - 0s 3ms/step - loss: 0.6674 - val_loss: 0.6662\n",
            "Epoch 61/600\n",
            "82/82 [==============================] - 0s 3ms/step - loss: 0.6653 - val_loss: 0.6650\n",
            "Epoch 62/600\n",
            "82/82 [==============================] - 0s 3ms/step - loss: 0.6651 - val_loss: 0.6652\n",
            "Epoch 63/600\n",
            "82/82 [==============================] - 0s 3ms/step - loss: 0.6624 - val_loss: 0.6652\n",
            "Epoch 64/600\n",
            "82/82 [==============================] - 0s 3ms/step - loss: 0.6663 - val_loss: 0.6644\n",
            "Epoch 65/600\n",
            "82/82 [==============================] - 0s 4ms/step - loss: 0.6632 - val_loss: 0.6630\n",
            "Epoch 66/600\n",
            "82/82 [==============================] - 0s 3ms/step - loss: 0.6604 - val_loss: 0.6612\n",
            "Epoch 67/600\n",
            "82/82 [==============================] - 0s 3ms/step - loss: 0.6620 - val_loss: 0.6605\n",
            "Epoch 68/600\n",
            "82/82 [==============================] - 0s 3ms/step - loss: 0.6625 - val_loss: 0.6604\n",
            "Epoch 69/600\n",
            "82/82 [==============================] - 0s 3ms/step - loss: 0.6679 - val_loss: 0.6624\n",
            "Epoch 70/600\n",
            "82/82 [==============================] - 0s 3ms/step - loss: 0.6640 - val_loss: 0.6608\n",
            "Epoch 71/600\n",
            "82/82 [==============================] - 0s 3ms/step - loss: 0.6662 - val_loss: 0.6610\n",
            "Epoch 72/600\n",
            "82/82 [==============================] - 0s 3ms/step - loss: 0.6628 - val_loss: 0.6592\n",
            "Epoch 73/600\n",
            "82/82 [==============================] - 0s 3ms/step - loss: 0.6631 - val_loss: 0.6584\n",
            "Epoch 74/600\n",
            "82/82 [==============================] - 0s 3ms/step - loss: 0.6575 - val_loss: 0.6575\n",
            "Epoch 75/600\n",
            "82/82 [==============================] - 0s 3ms/step - loss: 0.6588 - val_loss: 0.6549\n",
            "Epoch 76/600\n",
            "82/82 [==============================] - 0s 3ms/step - loss: 0.6624 - val_loss: 0.6569\n",
            "Epoch 77/600\n",
            "82/82 [==============================] - 0s 3ms/step - loss: 0.6633 - val_loss: 0.6565\n",
            "Epoch 78/600\n",
            "82/82 [==============================] - 0s 3ms/step - loss: 0.6656 - val_loss: 0.6589\n",
            "Epoch 79/600\n",
            "82/82 [==============================] - 0s 3ms/step - loss: 0.6643 - val_loss: 0.6585\n",
            "Epoch 80/600\n",
            "82/82 [==============================] - 0s 3ms/step - loss: 0.6597 - val_loss: 0.6546\n",
            "Epoch 81/600\n",
            "82/82 [==============================] - 0s 3ms/step - loss: 0.6621 - val_loss: 0.6559\n",
            "Epoch 82/600\n",
            "82/82 [==============================] - 0s 3ms/step - loss: 0.6591 - val_loss: 0.6554\n",
            "Epoch 83/600\n",
            "82/82 [==============================] - 0s 3ms/step - loss: 0.6614 - val_loss: 0.6564\n",
            "Epoch 84/600\n",
            "82/82 [==============================] - 0s 3ms/step - loss: 0.6592 - val_loss: 0.6548\n",
            "Epoch 85/600\n",
            "82/82 [==============================] - 0s 3ms/step - loss: 0.6585 - val_loss: 0.6517\n",
            "Epoch 86/600\n",
            "82/82 [==============================] - 0s 3ms/step - loss: 0.6611 - val_loss: 0.6517\n",
            "Epoch 87/600\n",
            "82/82 [==============================] - 0s 3ms/step - loss: 0.6587 - val_loss: 0.6514\n",
            "Epoch 88/600\n",
            "82/82 [==============================] - 0s 3ms/step - loss: 0.6617 - val_loss: 0.6513\n",
            "Epoch 89/600\n",
            "82/82 [==============================] - 0s 3ms/step - loss: 0.6607 - val_loss: 0.6520\n",
            "Epoch 90/600\n",
            "82/82 [==============================] - 0s 3ms/step - loss: 0.6596 - val_loss: 0.6489\n",
            "Epoch 91/600\n",
            "82/82 [==============================] - 0s 3ms/step - loss: 0.6597 - val_loss: 0.6492\n",
            "Epoch 92/600\n",
            "82/82 [==============================] - 0s 3ms/step - loss: 0.6554 - val_loss: 0.6469\n",
            "Epoch 93/600\n",
            "82/82 [==============================] - 0s 3ms/step - loss: 0.6614 - val_loss: 0.6503\n",
            "Epoch 94/600\n",
            "82/82 [==============================] - 0s 3ms/step - loss: 0.6549 - val_loss: 0.6465\n",
            "Epoch 95/600\n",
            "82/82 [==============================] - 0s 3ms/step - loss: 0.6546 - val_loss: 0.6450\n",
            "Epoch 96/600\n",
            "82/82 [==============================] - 0s 3ms/step - loss: 0.6554 - val_loss: 0.6445\n",
            "Epoch 97/600\n",
            "82/82 [==============================] - 0s 3ms/step - loss: 0.6567 - val_loss: 0.6438\n",
            "Epoch 98/600\n",
            "82/82 [==============================] - 0s 3ms/step - loss: 0.6571 - val_loss: 0.6447\n",
            "Epoch 99/600\n",
            "82/82 [==============================] - 0s 3ms/step - loss: 0.6573 - val_loss: 0.6444\n",
            "Epoch 100/600\n",
            "82/82 [==============================] - 0s 3ms/step - loss: 0.6549 - val_loss: 0.6443\n",
            "Epoch 101/600\n",
            "82/82 [==============================] - 0s 3ms/step - loss: 0.6520 - val_loss: 0.6413\n",
            "Epoch 102/600\n",
            "82/82 [==============================] - 0s 3ms/step - loss: 0.6557 - val_loss: 0.6402\n",
            "Epoch 103/600\n",
            "82/82 [==============================] - 0s 3ms/step - loss: 0.6533 - val_loss: 0.6410\n",
            "Epoch 104/600\n",
            "82/82 [==============================] - 0s 3ms/step - loss: 0.6596 - val_loss: 0.6425\n",
            "Epoch 105/600\n",
            "82/82 [==============================] - 0s 3ms/step - loss: 0.6486 - val_loss: 0.6383\n",
            "Epoch 106/600\n",
            "82/82 [==============================] - 0s 3ms/step - loss: 0.6526 - val_loss: 0.6380\n",
            "Epoch 107/600\n",
            "82/82 [==============================] - 0s 3ms/step - loss: 0.6550 - val_loss: 0.6381\n",
            "Epoch 108/600\n",
            "82/82 [==============================] - 0s 3ms/step - loss: 0.6517 - val_loss: 0.6368\n",
            "Epoch 109/600\n",
            "82/82 [==============================] - 0s 3ms/step - loss: 0.6460 - val_loss: 0.6347\n",
            "Epoch 110/600\n",
            "82/82 [==============================] - 0s 4ms/step - loss: 0.6513 - val_loss: 0.6344\n",
            "Epoch 111/600\n",
            "82/82 [==============================] - 0s 3ms/step - loss: 0.6510 - val_loss: 0.6328\n",
            "Epoch 112/600\n",
            "82/82 [==============================] - 0s 3ms/step - loss: 0.6484 - val_loss: 0.6304\n",
            "Epoch 113/600\n",
            "82/82 [==============================] - 0s 3ms/step - loss: 0.6472 - val_loss: 0.6319\n",
            "Epoch 114/600\n",
            "82/82 [==============================] - 0s 3ms/step - loss: 0.6483 - val_loss: 0.6307\n",
            "Epoch 115/600\n",
            "82/82 [==============================] - 0s 3ms/step - loss: 0.6533 - val_loss: 0.6323\n",
            "Epoch 116/600\n",
            "82/82 [==============================] - 0s 3ms/step - loss: 0.6492 - val_loss: 0.6311\n",
            "Epoch 117/600\n",
            "82/82 [==============================] - 0s 3ms/step - loss: 0.6427 - val_loss: 0.6274\n",
            "Epoch 118/600\n",
            "82/82 [==============================] - 0s 3ms/step - loss: 0.6450 - val_loss: 0.6273\n",
            "Epoch 119/600\n",
            "82/82 [==============================] - 0s 3ms/step - loss: 0.6473 - val_loss: 0.6286\n",
            "Epoch 120/600\n",
            "82/82 [==============================] - 0s 3ms/step - loss: 0.6441 - val_loss: 0.6263\n",
            "Epoch 121/600\n",
            "82/82 [==============================] - 0s 3ms/step - loss: 0.6494 - val_loss: 0.6293\n",
            "Epoch 122/600\n",
            "82/82 [==============================] - 0s 3ms/step - loss: 0.6427 - val_loss: 0.6259\n",
            "Epoch 123/600\n",
            "82/82 [==============================] - 0s 3ms/step - loss: 0.6484 - val_loss: 0.6275\n",
            "Epoch 124/600\n",
            "82/82 [==============================] - 0s 3ms/step - loss: 0.6439 - val_loss: 0.6267\n",
            "Epoch 125/600\n",
            "82/82 [==============================] - 0s 3ms/step - loss: 0.6434 - val_loss: 0.6239\n",
            "Epoch 126/600\n",
            "82/82 [==============================] - 0s 3ms/step - loss: 0.6386 - val_loss: 0.6206\n",
            "Epoch 127/600\n",
            "82/82 [==============================] - 0s 3ms/step - loss: 0.6484 - val_loss: 0.6250\n",
            "Epoch 128/600\n",
            "82/82 [==============================] - 0s 3ms/step - loss: 0.6370 - val_loss: 0.6232\n",
            "Epoch 129/600\n",
            "82/82 [==============================] - 0s 3ms/step - loss: 0.6367 - val_loss: 0.6217\n",
            "Epoch 130/600\n",
            "82/82 [==============================] - 0s 3ms/step - loss: 0.6438 - val_loss: 0.6240\n",
            "Epoch 131/600\n",
            "82/82 [==============================] - 0s 3ms/step - loss: 0.6399 - val_loss: 0.6231\n",
            "Epoch 132/600\n",
            "82/82 [==============================] - 0s 3ms/step - loss: 0.6422 - val_loss: 0.6224\n",
            "Epoch 133/600\n",
            "82/82 [==============================] - 0s 4ms/step - loss: 0.6463 - val_loss: 0.6251\n",
            "Epoch 134/600\n",
            "82/82 [==============================] - 0s 3ms/step - loss: 0.6441 - val_loss: 0.6239\n",
            "Epoch 135/600\n",
            "82/82 [==============================] - 0s 3ms/step - loss: 0.6437 - val_loss: 0.6217\n",
            "Epoch 136/600\n",
            "82/82 [==============================] - 0s 3ms/step - loss: 0.6409 - val_loss: 0.6215\n",
            "Epoch 137/600\n",
            "82/82 [==============================] - 0s 4ms/step - loss: 0.6426 - val_loss: 0.6199\n",
            "Epoch 138/600\n",
            "82/82 [==============================] - 0s 3ms/step - loss: 0.6381 - val_loss: 0.6190\n",
            "Epoch 139/600\n",
            "82/82 [==============================] - 0s 3ms/step - loss: 0.6427 - val_loss: 0.6194\n",
            "Epoch 140/600\n",
            "82/82 [==============================] - 0s 3ms/step - loss: 0.6384 - val_loss: 0.6192\n",
            "Epoch 141/600\n",
            "82/82 [==============================] - 0s 3ms/step - loss: 0.6332 - val_loss: 0.6169\n",
            "Epoch 142/600\n",
            "82/82 [==============================] - 0s 3ms/step - loss: 0.6420 - val_loss: 0.6208\n",
            "Epoch 143/600\n",
            "82/82 [==============================] - 0s 3ms/step - loss: 0.6367 - val_loss: 0.6178\n",
            "Epoch 144/600\n",
            "82/82 [==============================] - 0s 3ms/step - loss: 0.6346 - val_loss: 0.6162\n",
            "Epoch 145/600\n",
            "82/82 [==============================] - 0s 3ms/step - loss: 0.6414 - val_loss: 0.6179\n",
            "Epoch 146/600\n",
            "82/82 [==============================] - 0s 3ms/step - loss: 0.6373 - val_loss: 0.6179\n",
            "Epoch 147/600\n",
            "82/82 [==============================] - 0s 3ms/step - loss: 0.6394 - val_loss: 0.6207\n",
            "Epoch 148/600\n",
            "82/82 [==============================] - 0s 3ms/step - loss: 0.6404 - val_loss: 0.6192\n",
            "Epoch 149/600\n",
            "82/82 [==============================] - 0s 3ms/step - loss: 0.6403 - val_loss: 0.6179\n",
            "Epoch 150/600\n",
            "82/82 [==============================] - 0s 3ms/step - loss: 0.6375 - val_loss: 0.6189\n",
            "Epoch 151/600\n",
            "82/82 [==============================] - 0s 3ms/step - loss: 0.6426 - val_loss: 0.6191\n",
            "Epoch 152/600\n",
            "82/82 [==============================] - 0s 3ms/step - loss: 0.6370 - val_loss: 0.6174\n",
            "Epoch 153/600\n",
            "82/82 [==============================] - 0s 3ms/step - loss: 0.6358 - val_loss: 0.6182\n",
            "Epoch 154/600\n",
            "82/82 [==============================] - 0s 3ms/step - loss: 0.6452 - val_loss: 0.6207\n",
            "Epoch 155/600\n",
            "82/82 [==============================] - 0s 3ms/step - loss: 0.6351 - val_loss: 0.6188\n",
            "Epoch 156/600\n",
            "82/82 [==============================] - 0s 3ms/step - loss: 0.6351 - val_loss: 0.6151\n",
            "Epoch 157/600\n",
            "82/82 [==============================] - 0s 3ms/step - loss: 0.6396 - val_loss: 0.6170\n",
            "Epoch 158/600\n",
            "82/82 [==============================] - 0s 3ms/step - loss: 0.6352 - val_loss: 0.6172\n",
            "Epoch 159/600\n",
            "82/82 [==============================] - 0s 3ms/step - loss: 0.6309 - val_loss: 0.6136\n",
            "Epoch 160/600\n",
            "82/82 [==============================] - 0s 3ms/step - loss: 0.6393 - val_loss: 0.6159\n",
            "Epoch 161/600\n",
            "82/82 [==============================] - 0s 4ms/step - loss: 0.6402 - val_loss: 0.6197\n",
            "Epoch 162/600\n",
            "82/82 [==============================] - 0s 3ms/step - loss: 0.6352 - val_loss: 0.6175\n",
            "Epoch 163/600\n",
            "82/82 [==============================] - 0s 3ms/step - loss: 0.6313 - val_loss: 0.6147\n",
            "Epoch 164/600\n",
            "82/82 [==============================] - 0s 3ms/step - loss: 0.6399 - val_loss: 0.6168\n",
            "Epoch 165/600\n",
            "82/82 [==============================] - 0s 3ms/step - loss: 0.6292 - val_loss: 0.6151\n",
            "Epoch 166/600\n",
            "82/82 [==============================] - 0s 3ms/step - loss: 0.6412 - val_loss: 0.6178\n",
            "Epoch 167/600\n",
            "82/82 [==============================] - 0s 3ms/step - loss: 0.6341 - val_loss: 0.6164\n",
            "Epoch 168/600\n",
            "82/82 [==============================] - 0s 3ms/step - loss: 0.6331 - val_loss: 0.6162\n",
            "Epoch 169/600\n",
            "82/82 [==============================] - 0s 3ms/step - loss: 0.6348 - val_loss: 0.6147\n",
            "Epoch 170/600\n",
            "82/82 [==============================] - 0s 3ms/step - loss: 0.6287 - val_loss: 0.6123\n",
            "Epoch 171/600\n",
            "82/82 [==============================] - 0s 3ms/step - loss: 0.6339 - val_loss: 0.6133\n",
            "Epoch 172/600\n",
            "82/82 [==============================] - 0s 3ms/step - loss: 0.6372 - val_loss: 0.6134\n",
            "Epoch 173/600\n",
            "82/82 [==============================] - 0s 3ms/step - loss: 0.6294 - val_loss: 0.6141\n",
            "Epoch 174/600\n",
            "82/82 [==============================] - 0s 3ms/step - loss: 0.6400 - val_loss: 0.6165\n",
            "Epoch 175/600\n",
            "82/82 [==============================] - 0s 3ms/step - loss: 0.6386 - val_loss: 0.6177\n",
            "Epoch 176/600\n",
            "82/82 [==============================] - 0s 3ms/step - loss: 0.6371 - val_loss: 0.6169\n",
            "Epoch 177/600\n",
            "82/82 [==============================] - 0s 3ms/step - loss: 0.6310 - val_loss: 0.6180\n",
            "Epoch 178/600\n",
            "82/82 [==============================] - 0s 3ms/step - loss: 0.6329 - val_loss: 0.6158\n",
            "Epoch 179/600\n",
            "82/82 [==============================] - 0s 3ms/step - loss: 0.6406 - val_loss: 0.6171\n",
            "Epoch 180/600\n",
            "82/82 [==============================] - 0s 3ms/step - loss: 0.6345 - val_loss: 0.6172\n",
            "Epoch 181/600\n",
            "82/82 [==============================] - 0s 3ms/step - loss: 0.6302 - val_loss: 0.6160\n",
            "Epoch 182/600\n",
            "82/82 [==============================] - 0s 3ms/step - loss: 0.6320 - val_loss: 0.6148\n",
            "Epoch 183/600\n",
            "82/82 [==============================] - 0s 3ms/step - loss: 0.6295 - val_loss: 0.6165\n",
            "Epoch 184/600\n",
            "82/82 [==============================] - 0s 3ms/step - loss: 0.6339 - val_loss: 0.6148\n",
            "Epoch 185/600\n",
            "82/82 [==============================] - 0s 3ms/step - loss: 0.6316 - val_loss: 0.6146\n",
            "Epoch 186/600\n",
            "82/82 [==============================] - 0s 3ms/step - loss: 0.6261 - val_loss: 0.6131\n",
            "Epoch 187/600\n",
            "82/82 [==============================] - 0s 3ms/step - loss: 0.6308 - val_loss: 0.6135\n",
            "Epoch 188/600\n",
            "82/82 [==============================] - 0s 3ms/step - loss: 0.6369 - val_loss: 0.6136\n",
            "Epoch 189/600\n",
            "82/82 [==============================] - 0s 3ms/step - loss: 0.6330 - val_loss: 0.6136\n",
            "Epoch 190/600\n",
            "82/82 [==============================] - 0s 3ms/step - loss: 0.6386 - val_loss: 0.6142\n",
            "Epoch 191/600\n",
            "82/82 [==============================] - 0s 3ms/step - loss: 0.6388 - val_loss: 0.6167\n",
            "Epoch 192/600\n",
            "82/82 [==============================] - 0s 3ms/step - loss: 0.6290 - val_loss: 0.6178\n",
            "Epoch 193/600\n",
            "82/82 [==============================] - 0s 3ms/step - loss: 0.6275 - val_loss: 0.6159\n",
            "Epoch 194/600\n",
            "82/82 [==============================] - 0s 3ms/step - loss: 0.6367 - val_loss: 0.6179\n",
            "Epoch 195/600\n",
            "82/82 [==============================] - 0s 3ms/step - loss: 0.6268 - val_loss: 0.6147\n",
            "Epoch 195: early stopping\n"
          ]
        },
        {
          "output_type": "execute_result",
          "data": {
            "text/plain": [
              "<keras.callbacks.History at 0x7f4959b32bd0>"
            ]
          },
          "metadata": {},
          "execution_count": 925
        }
      ],
      "source": [
        "from tensorflow.keras.callbacks import EarlyStopping\n",
        "earlystop = EarlyStopping(monitor=\"val_loss\", mode=\"min\", verbose=1, patience=25)\n",
        "ann.fit(xtrain, ytrain, epochs=600, validation_data=(xtest, ytest), callbacks=[earlystop], verbose=1)"
      ]
    },
    {
      "cell_type": "markdown",
      "metadata": {
        "id": "nkcUwhZTj4Ab"
      },
      "source": [
        "We have used Dropout layer with 50% drop rate and early stopping at to find Global minimum with patience of 50 steps. We have used 4 hidden layers in above ANN model with 32 neurons in 1st layer, 16 Neuron in the next layer and 16 each in last 2 layers. The activation function used is \"relu\" in hidden layer and since it is a bi-varied target variable we have used \"sigmoid\" activation function in output layer. The optimizer used is \"adam\" and the loss function is \"binary_crossentropy\"."
      ]
    },
    {
      "cell_type": "code",
      "execution_count": null,
      "metadata": {
        "id": "bSr73Ej4lGpx",
        "colab": {
          "base_uri": "https://localhost:8080/",
          "height": 283
        },
        "outputId": "3555eb0c-59ff-466a-cbf8-7c66a2bd14c9"
      },
      "outputs": [
        {
          "output_type": "execute_result",
          "data": {
            "text/plain": [
              "<matplotlib.axes._subplots.AxesSubplot at 0x7f4959b634d0>"
            ]
          },
          "metadata": {},
          "execution_count": 926
        },
        {
          "output_type": "display_data",
          "data": {
            "text/plain": [
              "<Figure size 432x288 with 1 Axes>"
            ],
            "image/png": "[encoded data removed]"
          },
          "metadata": {
            "needs_background": "light"
          }
        }
      ],
      "source": [
        "lossdf = pd.DataFrame(ann.history.history)\n",
        "lossdf.plot()"
      ]
    },
    {
      "cell_type": "markdown",
      "metadata": {
        "id": "gYf50y47lZhT"
      },
      "source": [
        "Setting the threshold at 50%"
      ]
    },
    {
      "cell_type": "code",
      "execution_count": null,
      "metadata": {
        "colab": {
          "base_uri": "https://localhost:8080/"
        },
        "id": "R6AXX38ifvFx",
        "outputId": "12ca2090-69cb-4eb5-a962-bc0a9ec230df"
      },
      "outputs": [
        {
          "output_type": "stream",
          "name": "stdout",
          "text": [
            "21/21 [==============================] - 0s 2ms/step\n"
          ]
        }
      ],
      "source": [
        "ypred = ann.predict(xtest)\n",
        "ypred = ypred > 0.5"
      ]
    },
    {
      "cell_type": "code",
      "execution_count": null,
      "metadata": {
        "id": "Mq8hspznirct",
        "colab": {
          "base_uri": "https://localhost:8080/"
        },
        "outputId": "bb142103-7b1c-49ce-a376-854e4ccdde46"
      },
      "outputs": [
        {
          "output_type": "stream",
          "name": "stdout",
          "text": [
            "              precision    recall  f1-score   support\n",
            "\n",
            "           0       0.69      0.86      0.77       400\n",
            "           1       0.65      0.40      0.50       256\n",
            "\n",
            "    accuracy                           0.68       656\n",
            "   macro avg       0.67      0.63      0.63       656\n",
            "weighted avg       0.67      0.68      0.66       656\n",
            "\n"
          ]
        }
      ],
      "source": [
        "from sklearn.metrics import classification_report\n",
        "print(classification_report(ytest, ypred))"
      ]
    },
    {
      "cell_type": "markdown",
      "metadata": {
        "id": "K4oNdXYpldh9"
      },
      "source": [
        "From above classification report we can see that our model is having 64% accuracy with a recall value of 78% for category 0 and 42% for category 1. Also the F1 score is found to be pretty descent at 73% for category 0 and 47% for category 1"
      ]
    },
    {
      "cell_type": "code",
      "execution_count": null,
      "metadata": {
        "id": "lj6Zt_6jk-Fd"
      },
      "outputs": [],
      "source": [
        "ann.save(\"WaterPotability_Ismail\")"
      ]
    },
    {
      "cell_type": "code",
      "execution_count": null,
      "metadata": {
        "colab": {
          "base_uri": "https://localhost:8080/",
          "height": 206
        },
        "id": "iVd7k6BrVaEj",
        "outputId": "c6e0e603-372d-4eeb-c371-812f829dccf6"
      },
      "outputs": [
        {
          "output_type": "execute_result",
          "data": {
            "text/plain": [
              "         ph    Hardness        Solids  Chloramines     Sulfate  Conductivity  \\\n",
              "0  7.080795  204.890455  20791.318981     7.300212  368.516441    564.308654   \n",
              "1  3.716080  129.422921  18630.057858     6.635246  333.775777    592.885359   \n",
              "2  8.099124  224.236259  19909.541732     9.275884  333.775777    418.606213   \n",
              "3  8.316766  214.373394  22018.417441     8.059332  356.886136    363.266516   \n",
              "4  9.092223  181.101509  17978.986339     6.546600  310.135738    398.410813   \n",
              "\n",
              "   Organic_carbon  Trihalomethanes  Turbidity  Potability  \n",
              "0       10.379783        86.990970   2.963135           0  \n",
              "1       15.180013        56.329076   4.500656           0  \n",
              "2       16.868637        66.420093   3.055934           0  \n",
              "3       18.436524       100.341674   4.628771           0  \n",
              "4       11.558279        31.997993   4.075075           0  "
            ],
            "text/html": [
              "\n",
              "  <div id=\"df-d4b26d87-eab0-4223-b380-63cab01243b5\">\n",
              "    <div class=\"colab-df-container\">\n",
              "      <div>\n",
              "<style scoped>\n",
              "    .dataframe tbody tr th:only-of-type {\n",
              "        vertical-align: middle;\n",
              "    }\n",
              "\n",
              "    .dataframe tbody tr th {\n",
              "        vertical-align: top;\n",
              "    }\n",
              "\n",
              "    .dataframe thead th {\n",
              "        text-align: right;\n",
              "    }\n",
              "</style>\n",
              "<table border=\"1\" class=\"dataframe\">\n",
              "  <thead>\n",
              "    <tr style=\"text-align: right;\">\n",
              "      <th></th>\n",
              "      <th>ph</th>\n",
              "      <th>Hardness</th>\n",
              "      <th>Solids</th>\n",
              "      <th>Chloramines</th>\n",
              "      <th>Sulfate</th>\n",
              "      <th>Conductivity</th>\n",
              "      <th>Organic_carbon</th>\n",
              "      <th>Trihalomethanes</th>\n",
              "      <th>Turbidity</th>\n",
              "      <th>Potability</th>\n",
              "    </tr>\n",
              "  </thead>\n",
              "  <tbody>\n",
              "    <tr>\n",
              "      <th>0</th>\n",
              "      <td>7.080795</td>\n",
              "      <td>204.890455</td>\n",
              "      <td>20791.318981</td>\n",
              "      <td>7.300212</td>\n",
              "      <td>368.516441</td>\n",
              "      <td>564.308654</td>\n",
              "      <td>10.379783</td>\n",
              "      <td>86.990970</td>\n",
              "      <td>2.963135</td>\n",
              "      <td>0</td>\n",
              "    </tr>\n",
              "    <tr>\n",
              "      <th>1</th>\n",
              "      <td>3.716080</td>\n",
              "      <td>129.422921</td>\n",
              "      <td>18630.057858</td>\n",
              "      <td>6.635246</td>\n",
              "      <td>333.775777</td>\n",
              "      <td>592.885359</td>\n",
              "      <td>15.180013</td>\n",
              "      <td>56.329076</td>\n",
              "      <td>4.500656</td>\n",
              "      <td>0</td>\n",
              "    </tr>\n",
              "    <tr>\n",
              "      <th>2</th>\n",
              "      <td>8.099124</td>\n",
              "      <td>224.236259</td>\n",
              "      <td>19909.541732</td>\n",
              "      <td>9.275884</td>\n",
              "      <td>333.775777</td>\n",
              "      <td>418.606213</td>\n",
              "      <td>16.868637</td>\n",
              "      <td>66.420093</td>\n",
              "      <td>3.055934</td>\n",
              "      <td>0</td>\n",
              "    </tr>\n",
              "    <tr>\n",
              "      <th>3</th>\n",
              "      <td>8.316766</td>\n",
              "      <td>214.373394</td>\n",
              "      <td>22018.417441</td>\n",
              "      <td>8.059332</td>\n",
              "      <td>356.886136</td>\n",
              "      <td>363.266516</td>\n",
              "      <td>18.436524</td>\n",
              "      <td>100.341674</td>\n",
              "      <td>4.628771</td>\n",
              "      <td>0</td>\n",
              "    </tr>\n",
              "    <tr>\n",
              "      <th>4</th>\n",
              "      <td>9.092223</td>\n",
              "      <td>181.101509</td>\n",
              "      <td>17978.986339</td>\n",
              "      <td>6.546600</td>\n",
              "      <td>310.135738</td>\n",
              "      <td>398.410813</td>\n",
              "      <td>11.558279</td>\n",
              "      <td>31.997993</td>\n",
              "      <td>4.075075</td>\n",
              "      <td>0</td>\n",
              "    </tr>\n",
              "  </tbody>\n",
              "</table>\n",
              "</div>\n",
              "      <button class=\"colab-df-convert\" onclick=\"convertToInteractive('df-d4b26d87-eab0-4223-b380-63cab01243b5')\"\n",
              "              title=\"Convert this dataframe to an interactive table.\"\n",
              "              style=\"display:none;\">\n",
              "        \n",
              "  <svg xmlns=\"http://www.w3.org/2000/svg\" height=\"24px\"viewBox=\"0 0 24 24\"\n",
              "       width=\"24px\">\n",
              "    <path d=\"M0 0h24v24H0V0z\" fill=\"none\"/>\n",
              "    <path d=\"M18.56 5.44l.94 2.06.94-2.06 2.06-.94-2.06-.94-.94-2.06-.94 2.06-2.06.94zm-11 1L8.5 8.5l.94-2.06 2.06-.94-2.06-.94L8.5 2.5l-.94 2.06-2.06.94zm10 10l.94 2.06.94-2.06 2.06-.94-2.06-.94-.94-2.06-.94 2.06-2.06.94z\"/><path d=\"M17.41 7.96l-1.37-1.37c-.4-.4-.92-.59-1.43-.59-.52 0-1.04.2-1.43.59L10.3 9.45l-7.72 7.72c-.78.78-.78 2.05 0 2.83L4 21.41c.39.39.9.59 1.41.59.51 0 1.02-.2 1.41-.59l7.78-7.78 2.81-2.81c.8-.78.8-2.07 0-2.86zM5.41 20L4 18.59l7.72-7.72 1.47 1.35L5.41 20z\"/>\n",
              "  </svg>\n",
              "      </button>\n",
              "      \n",
              "  <style>\n",
              "    .colab-df-container {\n",
              "      display:flex;\n",
              "      flex-wrap:wrap;\n",
              "      gap: 12px;\n",
              "    }\n",
              "\n",
              "    .colab-df-convert {\n",
              "      background-color: #E8F0FE;\n",
              "      border: none;\n",
              "      border-radius: 50%;\n",
              "      cursor: pointer;\n",
              "      display: none;\n",
              "      fill: #1967D2;\n",
              "      height: 32px;\n",
              "      padding: 0 0 0 0;\n",
              "      width: 32px;\n",
              "    }\n",
              "\n",
              "    .colab-df-convert:hover {\n",
              "      background-color: #E2EBFA;\n",
              "      box-shadow: 0px 1px 2px rgba(60, 64, 67, 0.3), 0px 1px 3px 1px rgba(60, 64, 67, 0.15);\n",
              "      fill: #174EA6;\n",
              "    }\n",
              "\n",
              "    [theme=dark] .colab-df-convert {\n",
              "      background-color: #3B4455;\n",
              "      fill: #D2E3FC;\n",
              "    }\n",
              "\n",
              "    [theme=dark] .colab-df-convert:hover {\n",
              "      background-color: #434B5C;\n",
              "      box-shadow: 0px 1px 3px 1px rgba(0, 0, 0, 0.15);\n",
              "      filter: drop-shadow(0px 1px 2px rgba(0, 0, 0, 0.3));\n",
              "      fill: #FFFFFF;\n",
              "    }\n",
              "  </style>\n",
              "\n",
              "      <script>\n",
              "        const buttonEl =\n",
              "          document.querySelector('#df-d4b26d87-eab0-4223-b380-63cab01243b5 button.colab-df-convert');\n",
              "        buttonEl.style.display =\n",
              "          google.colab.kernel.accessAllowed ? 'block' : 'none';\n",
              "\n",
              "        async function convertToInteractive(key) {\n",
              "          const element = document.querySelector('#df-d4b26d87-eab0-4223-b380-63cab01243b5');\n",
              "          const dataTable =\n",
              "            await google.colab.kernel.invokeFunction('convertToInteractive',\n",
              "                                                     [key], {});\n",
              "          if (!dataTable) return;\n",
              "\n",
              "          const docLinkHtml = 'Like what you see? Visit the ' +\n",
              "            '<a target=\"_blank\" href=https://colab.research.google.com/notebooks/data_table.ipynb>data table notebook</a>'\n",
              "            + ' to learn more about interactive tables.';\n",
              "          element.innerHTML = '';\n",
              "          dataTable['output_type'] = 'display_data';\n",
              "          await google.colab.output.renderOutput(dataTable, element);\n",
              "          const docLink = document.createElement('div');\n",
              "          docLink.innerHTML = docLinkHtml;\n",
              "          element.appendChild(docLink);\n",
              "        }\n",
              "      </script>\n",
              "    </div>\n",
              "  </div>\n",
              "  "
            ]
          },
          "metadata": {},
          "execution_count": 882
        }
      ],
      "source": [
        "df.head()"
      ]
    },
    {
      "cell_type": "markdown",
      "metadata": {
        "id": "FD3Z6VBNl4fG"
      },
      "source": [
        "Now our model is trained and we can predict new values. Thus predicting one such random value"
      ]
    },
    {
      "cell_type": "code",
      "execution_count": null,
      "metadata": {
        "colab": {
          "base_uri": "https://localhost:8080/"
        },
        "id": "PdoMTtgpW3Iw",
        "outputId": "7a15f674-9c1c-41e8-af67-139271593d3b"
      },
      "outputs": [
        {
          "output_type": "stream",
          "name": "stdout",
          "text": [
            "1/1 [==============================] - 0s 78ms/step\n",
            "This Water is not suitable for drinking\n"
          ]
        }
      ],
      "source": [
        "new = [[4.5, 139, 21000, 8.6, 318, 420, 14, 72, 4.05]]\n",
        "anc = sc.transform(new)\n",
        "ypred = ann.predict(anc)\n",
        "if (ypred>0.5):\n",
        "  print(\"This Water is suitable for drinking\")\n",
        "else:\n",
        "    print(\"This Water is not suitable for drinking\")"
      ]
    },
    {
      "cell_type": "code",
      "execution_count": null,
      "metadata": {
        "id": "dTupA81QXcro"
      },
      "outputs": [],
      "source": []
    }
  ],
  "metadata": {
    "colab": {
      "provenance": [],
      "collapsed_sections": []
    },
    "kernelspec": {
      "display_name": "Python 3",
      "name": "python3"
    },
    "language_info": {
      "name": "python"
    }
  },
  "nbformat": 4,
  "nbformat_minor": 0
}